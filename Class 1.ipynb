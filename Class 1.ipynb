{
 "cells": [
  {
   "cell_type": "markdown",
   "metadata": {},
   "source": [
    "# REAL1-CG.3135: Real Estate Data Science"
   ]
  },
  {
   "cell_type": "markdown",
   "metadata": {},
   "source": [
    "## Class 1: Demystifying the Unmystical\n",
    "\n",
    "## Like a hammer and nails this course is about ideas and the tools to implement them"
   ]
  },
  {
   "cell_type": "markdown",
   "metadata": {},
   "source": [
    "## Course Introduction and Overview"
   ]
  },
  {
   "cell_type": "markdown",
   "metadata": {},
   "source": [
    "* Like every other major industry, CRE will be disrupted by the use of data science.  \n",
    "* It will be called many different things, but it is the same thing.\n",
    "    * Applied statistics and forecasting\n",
    "    * Statistical learning\n",
    "    * Machine learning\n",
    "    * Artificial intelligence\n",
    "* Why?\n",
    "    * Example: I want to predict what the 10-Year U.S. Treasury is going to be in the future to determine a realistic DCF for my property.\n",
    "    * Example: I want to predict what the 10-Year U.S. Treasury is going to be in the future to determine a realistic DCF for my property.\n",
    "    * Example: I want to predict what the cap rate on this property is, based on its characteristics.\n",
    "    * Example: I want to predict how likely my current tenant is to churn at the end of her lease term. (And whether I can intervene in the decision.)\n",
    "    * Example: I want to predict how labor costs will change with time.\n",
    "    * Example: Given the current interest rate environment, demand for hard assets like CRE is strong. Algorithmic deployment of capital."
   ]
  },
  {
   "cell_type": "markdown",
   "metadata": {},
   "source": [
    "## My goals\n",
    "* Develop a common language among us through rapid immersion.\n",
    "* Explore conjectures about the world in a logically-coherent maanner.  \n",
    "    * Without data, this is now called **thought leadership**.\n",
    "    * Time series as storytelling and for forecasting.\n",
    "    * Examples of spurious correlation and considerations about causation.\n",
    "* Introduce you to R and R Studio to rapidly expand your tool kit.\n",
    "* Provide historical background in probability and statistics.\n",
    "* R is a low-level programming language developed by Ross Ihaka and Robert Gentleman (hence R).\n",
    "* I will be using Jupyter notebooks (as a substitute for PowerPoint) for your benefit.\n",
    "    * Occasional use of Python graphics in class.\n",
    "    * Visualizations and Monte Carlo methods rather than mathematical proofs.\n",
    "    * **You are not responsible for Python.**\n",
    "    * You will use R and R Studio with sample R code to be implemented in class.\n",
    "\n",
    "### Why R and R Studio?\n",
    "* Stable code base and platform\n",
    "* Open source and free\n",
    "* Learning curve is not steep, allowing for immediate immersion in data acquisition and analysis\n",
    "* Compatible with other statistical learning environments, and this class is focused on ideas \n",
    "* Open source and free\n",
    "* These notes will live until we turn out the lights.\n",
    "* Provide you with many examples from a variety of sources, including real estate and finance.\n",
    "* Typical class: Lecture and discussion with examples, as well as in-class labs.\n",
    "\n",
    "\n",
    "### I know of no other way to learn data science than to apply it repeatedly.\n",
    "\n",
    "### By the end of this class, you will know more about data analysis than the chief economists of either CBRE or JLL.\n",
    "\n",
    "### Never forget: If I can do this, so can you. And you'll be better RE professionals."
   ]
  },
  {
   "cell_type": "markdown",
   "metadata": {},
   "source": [
    "## The Myth of AI\n",
    "\n",
    "* For the difficult questions that we face in CRE, there is no artificial intelligence.  \n",
    "* We have tools, and you must put the human back into machine learning.\n",
    "* You must think about relationships given your domain knowledge in real estate.\n",
    "    * Finance: Can you predict interest rates or cap rates?\n",
    "    * Development: Can you predict labor costs?"
   ]
  },
  {
   "cell_type": "markdown",
   "metadata": {},
   "source": [
    "## A Review of the Syllabus"
   ]
  },
  {
   "cell_type": "markdown",
   "metadata": {},
   "source": [
    "## A Discussion of Your Goals"
   ]
  },
  {
   "cell_type": "markdown",
   "metadata": {},
   "source": [
    "## An Introduction to R and R Studio\n",
    "\n",
    "* R v. Python v. Excel\n",
    "    * Access to a **massive collection** of algorithms and datasets\n",
    "* R has better time-series algorithms\n",
    "* R, Python and Excel are merely tools to implement ideas\n",
    "    * Present Discounted Value: It a built-in function in Excel, but **why** do we discount the future?\n",
    "* Jupyter v. PPT: instantenous updating\n",
    "    * I have a standard talk on the current state of the macroeconomy and its implications for CRE that I can update it in real time.\n",
    "\n",
    "### R and R Studio\n",
    "* Installing and loading libraries\n",
    "* CRAN, task views, and R vignettes\n",
    "* Graphics and story telling\n",
    "* Linear regression\n",
    "* Dataframes as spreadsheets\n",
    "* Application Protocol Interfaces (APIs)\n",
    "* Webscrapping\n",
    "* Feature engineering (data manipulation)\n",
    "* Practical examples"
   ]
  }
 ],
 "metadata": {
  "kernelspec": {
   "display_name": "Python 3",
   "language": "python",
   "name": "python3"
  },
  "language_info": {
   "codemirror_mode": {
    "name": "ipython",
    "version": 3
   },
   "file_extension": ".py",
   "mimetype": "text/x-python",
   "name": "python",
   "nbconvert_exporter": "python",
   "pygments_lexer": "ipython3",
   "version": "3.7.2"
  }
 },
 "nbformat": 4,
 "nbformat_minor": 2
}
