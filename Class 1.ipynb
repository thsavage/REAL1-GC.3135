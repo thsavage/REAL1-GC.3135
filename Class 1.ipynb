{
 "cells": [
  {
   "cell_type": "markdown",
   "metadata": {},
   "source": [
    "# REAL1-CG.3135: Real Estate Data Science"
   ]
  },
  {
   "cell_type": "markdown",
   "metadata": {},
   "source": [
    "## Class 1"
   ]
  },
  {
   "attachments": {},
   "cell_type": "markdown",
   "metadata": {},
   "source": [
    "## Course Introduction and Overview"
   ]
  },
  {
   "attachments": {},
   "cell_type": "markdown",
   "metadata": {},
   "source": [
    "* Like every other major industry, CRE will be disrupted by the use of data science.  \n",
    "* It will be called many different things, but it is the same thing.\n",
    "    * Applied statistics and forecasting\n",
    "    * Statistical learning\n",
    "    * Machine learning\n",
    "    * Artificial intelligence\n",
    "* Why?\n",
    "    * Example: I want to predict what the 10-Year U.S. Treasury is going to be in the future to determine a realistic DCF for my property."
   ]
  },
  {
   "cell_type": "markdown",
   "metadata": {},
   "source": [
    "## My goals\n",
    "* Develop a common language among us.\n",
    "* Introduce you to R and R Studio to rapidly expand your tool kit.\n",
    "    * Provide historical background in probability and statistics.\n",
    "* I will be using some Python graphics in class.  \n",
    "    * You are not responsible for Python.\n",
    "    * You will use R and R Studio with sample R code to be implemented in class.  \n",
    "* Provide you with many examples from a variety of sources, including real estate and finance.\n",
    "* Typical session: Lecture and discussion with examples.  In-Class Labs.  \n",
    "    * I know of no other way to learn data analytics than to do it repeatedly."
   ]
  },
  {
   "attachments": {},
   "cell_type": "markdown",
   "metadata": {},
   "source": [
    "## The Myth of AI\n",
    "\n",
    "* For the difficult questions that we face in CRE, there is no artificial intelligence.  \n",
    "* We have tools, and you must put the human back into machine learning.\n",
    "* You must think about relationships given your domain knowledge in real estate.\n",
    "    * Finance: Can you predict interest rates or cap rates?\n",
    "    * Development: Can you predict labor costs?"
   ]
  },
  {
   "cell_type": "markdown",
   "metadata": {},
   "source": [
    "## Review the Syllabus"
   ]
  },
  {
   "cell_type": "markdown",
   "metadata": {},
   "source": [
    "## Discuss Your Goals"
   ]
  },
  {
   "cell_type": "markdown",
   "metadata": {},
   "source": [
    "## An Introduction to R and R Studio"
   ]
  }
 ],
 "metadata": {
  "kernelspec": {
   "display_name": "Python 3",
   "language": "python",
   "name": "python3"
  },
  "language_info": {
   "codemirror_mode": {
    "name": "ipython",
    "version": 3
   },
   "file_extension": ".py",
   "mimetype": "text/x-python",
   "name": "python",
   "nbconvert_exporter": "python",
   "pygments_lexer": "ipython3",
   "version": "3.7.0"
  }
 },
 "nbformat": 4,
 "nbformat_minor": 2
}
