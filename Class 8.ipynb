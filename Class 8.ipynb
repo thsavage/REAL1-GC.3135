{
 "cells": [
  {
   "cell_type": "markdown",
   "metadata": {},
   "source": [
    "# Class 8"
   ]
  },
  {
   "cell_type": "markdown",
   "metadata": {},
   "source": [
    "## Another Application of Multivariate Regression: The Returns to Education"
   ]
  },
  {
   "cell_type": "markdown",
   "metadata": {},
   "source": [
    "### Overview: The Early Days\n",
    "\n",
    "> “Those talents, as they make a part of his fortune, so do they likewise that of the society to which he belongs. The improved dexterity of a workman may be considered in the same light as a machine or instrument of trade which facilitates and abridges labor, and which, though it costs a certain expense, repays that expense with a profit.”  \n",
    "Adam Smith, The Wealth of Nations"
   ]
  },
  {
   "cell_type": "markdown",
   "metadata": {},
   "source": [
    "### Human Capital Theory\n",
    "\n",
    "+ Human capital (as opposed to physical or financial capital) comprises the abilities, knowledge, education, and other attributes that individuals bring to the labor market.\n",
    "+ In exchange for their labor to produce economic value in the marketplace, individuals receive wages (or earnings).\n",
    "+ Strong focus on the development of capital through education and workforce experience. "
   ]
  },
  {
   "cell_type": "markdown",
   "metadata": {},
   "source": [
    "### Education: Skill or Signal?\n",
    "\n",
    "+ One idea is that education increases an individual’s skill, allowing her to capture a higher rents in the labor market.  In other words, higher education increases earings.\n",
    "+ A separate idea is that education is simply a signal to potential employers about one’s unobservable skill and potential dedication.\n",
    "    - Places of higher education also allow people to tap into networks to aid in employment (such as MBAs)."
   ]
  },
  {
   "cell_type": "markdown",
   "metadata": {},
   "source": [
    "### Wages\n",
    "\n",
    "+ Economist Jacob Mincer specified an approach that relates observed wages to schooling and other measures of human capital, such as job market experience. \n",
    "+ Relation is typically expressed as the natural log of wages.  Wages are not normally distributed (no negative wages), but rather could be log-normally distributed.\n",
    "    - $ln(1+r) ≈ r$ for small $r$, so regression estimates can be viewed as rates of return."
   ]
  },
  {
   "cell_type": "code",
   "execution_count": 38,
   "metadata": {},
   "outputs": [
    {
     "name": "stdout",
     "output_type": "stream",
     "text": [
      "0.00995033085317\n",
      "0.0487901641694\n",
      "0.0953101798043\n"
     ]
    }
   ],
   "source": [
    "print(np.log(1 + 0.01))\n",
    "print(np.log(1 + 0.05))\n",
    "print(np.log(1 + 0.10))"
   ]
  },
  {
   "cell_type": "markdown",
   "metadata": {},
   "source": [
    "### The Returns to Education\n",
    "\n",
    "* Goal is measure the 'rate of return' to education.\n",
    "* Increase, if any, in earnings associated with an additional year of education.\n",
    "* A simple correlation of wages and years of schooling does not necessarily accurately measure this relation.\n",
    "    * Could do randomized trials, but substantial ethical objections.\n",
    "* Let’s look at the Griliches (1979) data.\n",
    "    * Paper is here: https://athens.src.uchicago.edu/jenni/dvmaster/FILES/griliches77f.pdf"
   ]
  },
  {
   "cell_type": "markdown",
   "metadata": {},
   "source": [
    "### Data Dictionary of Griliches Data\n",
    "* lw: the log of 1980 earnings per hour.\n",
    "* school: years of schooling.\n",
    "* iq: Measured IQ.\n",
    "* age: age at time of measurement.\n",
    "* expr: total job market experience.\n",
    "* tenure: length of time on current job.\n",
    "* med: mother's level of education. "
   ]
  }
 ],
 "metadata": {
  "kernelspec": {
   "display_name": "Python 3",
   "language": "python",
   "name": "python3"
  },
  "language_info": {
   "codemirror_mode": {
    "name": "ipython",
    "version": 3
   },
   "file_extension": ".py",
   "mimetype": "text/x-python",
   "name": "python",
   "nbconvert_exporter": "python",
   "pygments_lexer": "ipython3",
   "version": "3.7.0"
  }
 },
 "nbformat": 4,
 "nbformat_minor": 2
}
