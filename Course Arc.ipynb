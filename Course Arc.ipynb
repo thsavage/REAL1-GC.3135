{
 "cells": [
  {
   "cell_type": "markdown",
   "metadata": {},
   "source": [
    "# Course Arc\n",
    "\n",
    "## Class 1\n",
    "* Course introduction and overview\n",
    "* Data immersion in the world of open source tools, such as R and Python, and APIs to connect to a world of data.\n",
    "    * The scatterplot and the histogram\n",
    "    * A line as feature reduction and explanation\n",
    "\n",
    "## Class 2\n",
    "* The algorithm\n",
    "    * Representation\n",
    "    * Optimization\n",
    "    * Evaluation\n",
    "* The theoretical mininimum of probability and statistics using Gelnter *et al.* Exhibits 9-1 and 9-2 to motivate all ideas\n",
    "    * Probability distribution as an abstraction\n",
    "        * The normal distribution as an abstraction of asset returns: Exhibit 9-1\n",
    "    * Measures of central tendancy as feature reduction\n",
    "        * Expected returns (a mean) and risk (a standard deviation): Exhibit 9-2\n",
    "* Making the machines do the work\n",
    "\n",
    "## Class 3\n",
    "* The framework of hypothesis testing using a null hypothesis, H$_0$\n",
    "* Classical (or frequentist) hypothesis testing using the normal distribution\n",
    "    * The Central Limit Theorem proved graphically\n",
    "    * Two possible errors\n",
    "        * Type I: Reject H$_0$ when it is true\n",
    "        * Type II: Fail to reject H$_0$ when it is false (or when H$_1$ is true)\n",
    "    * Your choice regarding the determination of P(Type I error).\n",
    "        * Frequently 5% or 0.05 $\\rightarrow \\pm 1.96$ critical value or 2$\\sigma$\n",
    "        * Weak standard in social sciences, such as economics and finance.  \n",
    "        * More stringent standard is 1% or 0.01 $\\rightarrow \\pm 2.54$ critical value or  3$\\sigma$\n",
    "* The Capital Asset Pricing Models (CAPM)\n",
    "    * Unification of finance theory, classical hypothesis testing, and the algorithm (linear regression)\n",
    "    \n",
    "## Class 4\n",
    "* More examples of classical hypothesis testing using the bivariate algorithm.\n",
    "* A discussion of empirical causation: **Raise rents to lower vacancy!**\n",
    "* Judea Pearl's ladder of causation.\n",
    "    * Savage and Vo (2015): An example of the algorithmic counterfactual."
   ]
  }
 ],
 "metadata": {
  "kernelspec": {
   "display_name": "Python 3",
   "language": "python",
   "name": "python3"
  },
  "language_info": {
   "codemirror_mode": {
    "name": "ipython",
    "version": 3
   },
   "file_extension": ".py",
   "mimetype": "text/x-python",
   "name": "python",
   "nbconvert_exporter": "python",
   "pygments_lexer": "ipython3",
   "version": "3.7.2"
  }
 },
 "nbformat": 4,
 "nbformat_minor": 2
}
