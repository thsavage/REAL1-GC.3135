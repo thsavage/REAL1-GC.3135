{
 "cells": [
  {
   "cell_type": "markdown",
   "metadata": {},
   "source": [
    "# Class 4"
   ]
  },
  {
   "cell_type": "markdown",
   "metadata": {},
   "source": [
    "## Correlation and Empirical Causality: The Ongoing Debate"
   ]
  },
  {
   "cell_type": "markdown",
   "metadata": {},
   "source": [
    "## Experimentation\n",
    "\n",
    "* In the physical sciences, experiments can be designed to explore theories about the physical world expressed in the language of mathematics.  Other than philosophical debates about existence (are we just a simulation on someone else's computer?), there are no questions regarding causation.\n",
    "    * Experiments designed to test the implications of Einstein's the theory of gravitation.\n",
    "        - Sir Arthur Eddington's photographs of solar eclipses to examine the bending of light by massive objects.\n",
    "        - Imperfections in the classical prediction of Mercury's orbit around the Sun.\n",
    "        - Gravitational lensing: two distinct images of the same object.\n",
    "        - Gravitational waves: recently discovered.\n",
    "    * Experiments to prove the accuracy of Quantum Electrodynamics (QED), the most accuracy theory in science. \n",
    "    * Experiments designed to detect the Higgs field at the Large Hadron Collider.\n",
    "* In systems that involve humans, however, causation may be difficult to establish.  Certainly, correlations do not establish a causal mechanism.  \n",
    "    * Umbrellas cause rain.\n",
    "    * More education yields higher earnings.\n",
    "    * More police reduce crime.\n",
    "* It might be possible to establish a framework for human experimentation.\n",
    "    * Ethics and Institutional Review Boards (IRBs).\n",
    "    * Generalizability of results."
   ]
  },
  {
   "cell_type": "markdown",
   "metadata": {},
   "source": [
    "## Data in Commercial Real Estate and Finance: Non-Experimental and Non-IID\n",
    "* We teach you how to injest data and perform hypothesis testing through the application of algorithms.\n",
    "* In this discussion, I will address the issue of thinking critically about data generating processes and the conditions under which the results of hypothesis testing have merit.\n",
    "* There are ways to treat analysis of non-experimental data to obtain results that are quasi-experimental.\n",
    "* For superb books on these ideas, see:\n",
    "\n",
    "> Angrist and Pischke, *“Mostly Harmless Econometrics: An Empiricist’s Companion”*\n",
    "\n",
    "> Judea Pearl, *\"The Book of Why: The New Science of Cause and Effect\"*"
   ]
  },
  {
   "cell_type": "markdown",
   "metadata": {},
   "source": [
    "## Judea Pearl's Ladder of Empirical Causation (Weakest to Strongest)"
   ]
  },
  {
   "cell_type": "markdown",
   "metadata": {},
   "source": [
    "* **Association**: What if I see __________?\n",
    "    * What does a symptom tell me about a disease?\n",
    "    * What does a survey tell us about political attitudes?\n",
    "* Example: Correlation between symptom and disease.\n",
    "* Others?"
   ]
  },
  {
   "cell_type": "markdown",
   "metadata": {},
   "source": [
    "* **Intervention**:  What if I do __________?\n",
    "    * What if I take this medicine, will my disease be cured?\n",
    "    * What if the government subsidizes education, will wages rise?\n",
    "* Example: Regression accounting for alternative sources in wage variation, such as Griliches (1979).\n",
    "* Others?"
   ]
  },
  {
   "cell_type": "markdown",
   "metadata": {},
   "source": [
    "* **Counterfactual**: What if I acted differently?\n",
    "    * Was it the medicine that cured my disease?\n",
    "    * If Hurricane Sandy had not hit NYC, would traffic patterns be the same?\n",
    "* Example: [If we have time](https://github.com/thsavage/Causation/blob/master/Poster.pdf)."
   ]
  },
  {
   "cell_type": "markdown",
   "metadata": {},
   "source": [
    "## An Example from Pharmaceuticals\n",
    "* Randomized clinical trials using a double-blind protocol, the technique used for clinical trials for disease treatment.\n",
    "    * **Control** group.\n",
    "    * **Treatment** group.\n",
    "    * Data scientist **does not know** which individuals are in either group until the study is complete.\n",
    "* The goal is to compare average outcomes across two groups to test for differences.\n",
    "    * This can be done using either classical or Bayesian inference.\n",
    "* Issues:\n",
    "    * Costly.\n",
    "    * Based on small samples: Stage 3 cancer patients.\n",
    "    * Often only a single study that not be repeated or reproduced."
   ]
  }
 ],
 "metadata": {
  "kernelspec": {
   "display_name": "Python 3",
   "language": "python",
   "name": "python3"
  },
  "language_info": {
   "codemirror_mode": {
    "name": "ipython",
    "version": 3
   },
   "file_extension": ".py",
   "mimetype": "text/x-python",
   "name": "python",
   "nbconvert_exporter": "python",
   "pygments_lexer": "ipython3",
   "version": "3.7.0"
  }
 },
 "nbformat": 4,
 "nbformat_minor": 2
}
