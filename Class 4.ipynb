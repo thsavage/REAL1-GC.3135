{
 "cells": [
  {
   "cell_type": "markdown",
   "metadata": {},
   "source": [
    "# REAL1-CG.3135: Real Estate Data Science"
   ]
  },
  {
   "cell_type": "markdown",
   "metadata": {},
   "source": [
    "## Class 4: Correlation and Empirical Causality (An Ongoing Debate)"
   ]
  },
  {
   "cell_type": "markdown",
   "metadata": {},
   "source": [
    "## Experimentation\n",
    "\n",
    "* In the physical sciences, experiments can be designed to explore theories about the physical world expressed in the language of mathematics.  Other than philosophical debates about existence (are we just a simulation on someone else's computer?), there are no questions regarding causation.\n",
    "    * Experiments designed to test the implications of Einstein's the theory of gravitation.\n",
    "        - Sir Arthur Eddington's photographs of solar eclipses to examine the bending of light by massive objects.\n",
    "        - Imperfections in the classical prediction of Mercury's orbit around the Sun.\n",
    "        - Gravitational lensing: two distinct images of the same object.\n",
    "        - Gravitational waves: recently discovered.\n",
    "    * Experiments to prove the accuracy of Quantum Electrodynamics (QED), the most accuracy theory in science. \n",
    "    * Experiments designed to detect the Higgs field at the Large Hadron Collider.\n",
    "* In systems that involve humans, however, causation may be difficult to establish.  Certainly, correlations do not establish a causal mechanism.  \n",
    "    * Umbrellas cause rain.\n",
    "    * More education yields higher earnings.\n",
    "    * More police reduce crime.\n",
    "* It might be possible to establish a framework for human experimentation.\n",
    "    * Ethics and Institutional Review Boards (IRBs).\n",
    "    * Generalizability of results."
   ]
  },
  {
   "cell_type": "markdown",
   "metadata": {},
   "source": [
    "## A Continued Discussion of Empirical Causality\n",
    "\n",
    "* Prior to the 1930s, there were few government-sponsored measures of economic activity.\n",
    "\n",
    "* As the US and Europe slid into the Great Depression, policy makers lacked basic information.\n",
    "\n",
    "* In the US, the National Accounts were born in 1934 and greatly expanded during and after WWII.\n",
    "\n",
    "* At the same time, Alfred Cowles established the Cowles Commission for Research in Economics.\n",
    "\n",
    "* Cowles approach was a probabilistic framework to estimate systems of simultaneous equations to model an economy.\n",
    "\n",
    "* Ultimately would develop very large scale econometric models to examine a host of different economic variables. \n",
    "\n",
    "    * Main insight was a demonstrated bias of linear regression estimates derived from such models.\n",
    "    * Approach was found to be inadequate for policy evaluation (“Goodhart’s law” and “Lucas critique”).\n",
    "    \n",
    "### Goodhart's Law\n",
    "\n",
    "* Goodhart “asserts that any economic relation tends to break down when used for policy purposes.”  (Wickens [2008].)\n",
    "    * Proposed relationships, economic or otherwise, are not structural in nature.\n",
    "    * Instead they sre derived from fundamental behavioral relationships (structural).\n",
    "    \n",
    "### The Lucas Critique\n",
    "\n",
    "* Lucas (1976) notes that individual decision rules affected by policy are driven by “deep structural parameters.” \n",
    "    * Decision rules and, therefore, decisions are contingent on the state of the system as it is.\n",
    "    * Change the system through policy, change the decision rule.\n",
    "    * Such changes may not be captured in non-structural models.\n",
    "    \n",
    "### Experimental Design: Natural Experiments (Freakonomics)\n",
    "\n",
    "> A natural experiment is an empirical study in which individuals (or clusters of individuals) exposed to the experimental and control conditions are determined by nature or by other factors outside the control of the investigators, yet the process governing the exposures arguably resembles random assignment.\n",
    "\n",
    "> Wikipedia\n",
    "\n",
    "* Examples\n",
    "    * **Natural crises**\n",
    "        * 1906 S.F. earthquake to examine the impact of stock changes (vacancy) on rent.\n",
    "        * Hurricane Sandy.\n",
    "    * **Lotteries** that truly randomize a group of individuals.  \n",
    "        * Vietnam draft in the U.S. as a means to explore the impacts of education on wages.\n",
    "        * Delay in schooling reduces wages (even if the same level of schooling is achieved).\n",
    "        * Randomized eligibility for mandatory military service in Argentina.  \n",
    "            * Actual conscription increases the likelihood of having a criminal record later in adulthood. \n",
    "            * Possible inference: Delayed entry to the labor market has adverse implications in later labor market outcomes.\n",
    "        * Recent paper on the impact of rent control on quality of housing stock.\n",
    "    * **Jurisdictional boundaries** over which policies are different.\n",
    "        * Different minimum wage laws (New Jersey and Pennsylvania) to examine the impact of minimum wages on employment levels.\n",
    "        * North v. South Korea.\n",
    "    * **Same individuals** faced with exogenous changes (though doing the same thing).\n",
    "        * Tim in the classroom versus Tim online.\n",
    "        \n",
    "### Will the Explosion of Data Generation Help?\n",
    "* Perhaps, but it depends on understanding algorithms\n",
    "* In the meantime, let's move up Pearl's Ladder of Empirical Causation: bivariate to multivariate regression."
   ]
  },
  {
   "cell_type": "markdown",
   "metadata": {},
   "source": [
    "## Data in Commercial Real Estate and Finance: Non-Experimental and Non-IID\n",
    "* We teach you how to injest data and perform hypothesis testing through the application of algorithms.\n",
    "* In this discussion, I will address the issue of thinking critically about data generating processes and the conditions under which the results of hypothesis testing have merit.\n",
    "* There are ways to treat analysis of non-experimental data to obtain results that are quasi-experimental.\n",
    "* For superb books on these ideas, see:\n",
    "\n",
    "> Angrist and Pischke, “Mostly Harmless Econometrics: An Empiricist’s Companion”\n",
    "\n",
    "\n",
    "> Judea Pearl, \"The Book of Why: The New Science of Cause and Effect\"\n",
    "\n"
   ]
  },
  {
   "cell_type": "markdown",
   "metadata": {},
   "source": [
    "## Judea Pearl's Ladder of Empirical Causation (Weakest to Strongest)"
   ]
  },
  {
   "cell_type": "markdown",
   "metadata": {},
   "source": [
    "* **Association**: What if I see __________?\n",
    "    * What does a symptom tell me about a disease?\n",
    "    * What does a survey tell us about political attitudes?\n",
    "* Example: Correlation between symptom and disease.\n",
    "* Others?"
   ]
  },
  {
   "cell_type": "markdown",
   "metadata": {},
   "source": [
    "* **Intervention**:  What if I do __________?\n",
    "    * What if I take this medicine, will my disease be cured?\n",
    "    * What if the government subsidizes education, will wages rise?\n",
    "* Example: Regression accounting for alternative sources in wage variation, such as Griliches (1979).\n",
    "* Others?"
   ]
  },
  {
   "cell_type": "markdown",
   "metadata": {},
   "source": [
    "* **Counterfactual**: What if I acted differently?\n",
    "    * Was it the medicine that cured my disease?\n",
    "    * If Hurricane Sandy had not hit NYC, would traffic patterns be the same?\n",
    "* Example: [If we have time](https://github.com/thsavage/Causation/blob/master/Poster.pdf)."
   ]
  },
  {
   "cell_type": "markdown",
   "metadata": {},
   "source": [
    "## An Example from Pharmaceuticals\n",
    "* Randomized clinical trials using a double-blind protocol, the technique used for clinical trials for disease treatment.\n",
    "    * **Control** group.\n",
    "    * **Treatment** group.\n",
    "    * Data scientist **does not know** which individuals are in either group until the study is complete.\n",
    "* The goal is to compare average outcomes across two groups to test for differences.\n",
    "    * This can be done using either classical or Bayesian inference.\n",
    "* Issues:\n",
    "    * Costly.\n",
    "    * Based on small samples: Stage 3 cancer patients.\n",
    "    * Often only a single study that not be repeated or reproduced."
   ]
  }
 ],
 "metadata": {
  "kernelspec": {
   "display_name": "Python 3",
   "language": "python",
   "name": "python3"
  },
  "language_info": {
   "codemirror_mode": {
    "name": "ipython",
    "version": 3
   },
   "file_extension": ".py",
   "mimetype": "text/x-python",
   "name": "python",
   "nbconvert_exporter": "python",
   "pygments_lexer": "ipython3",
   "version": "3.7.2"
  }
 },
 "nbformat": 4,
 "nbformat_minor": 2
}
